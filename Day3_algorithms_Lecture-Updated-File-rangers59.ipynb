{
 "cells": [
  {
   "cell_type": "markdown",
   "metadata": {},
   "source": [
    "# Algorithms, Binary Search & Linked Lists"
   ]
  },
  {
   "cell_type": "markdown",
   "metadata": {},
   "source": [
    "## Tasks Today:\n",
    " \n",
    "1) <b>In-Place Algorithms</b> <br>\n",
    " &nbsp;&nbsp;&nbsp;&nbsp; a) Syntax <br>\n",
    " &nbsp;&nbsp;&nbsp;&nbsp; a) Out of Place Algorithm <br>\n",
    " &nbsp;&nbsp;&nbsp;&nbsp; b) In-Class Exercise #1 <br>\n",
    "2) <b>Two Pointers</b> <br>\n",
    "3) <b>Linked Lists</b> <br>\n",
    "4) <b>Merge Sort</b> <br>\n",
    " &nbsp;&nbsp;&nbsp;&nbsp; a) Video on Algorithms <br>\n",
    " &nbsp;&nbsp;&nbsp;&nbsp; b) How it Works <br>\n",
    "5) <b>Exercises</b> <br>\n",
    " &nbsp;&nbsp;&nbsp;&nbsp; a) Exercise #1 - Reverse a List in Place Using an In-Place Algorithm <br>\n",
    " &nbsp;&nbsp;&nbsp;&nbsp; b) Exercise #2 - Find Distinct Words <br>\n",
    " &nbsp;&nbsp;&nbsp;&nbsp; c) Exercise #3 - Write a program to implement a Linear Search Algorithm. <br>"
   ]
  },
  {
   "cell_type": "markdown",
   "metadata": {},
   "source": [
    "## In-Place Algorithms"
   ]
  },
  {
   "cell_type": "markdown",
   "metadata": {},
   "source": [
    "#### Syntax"
   ]
  },
  {
   "cell_type": "code",
   "execution_count": null,
   "metadata": {},
   "outputs": [],
   "source": [
    "# var[i], var[i+1] = var[i+1], var[i]\n",
    "# swapping algorithm\n",
    "# we're going to put what's last to first and what's first to last \n",
    "# saving the different list in the SAME comtainer \n",
    "# overwriting that piece of data by returning it in a different order\n",
    "def swap(a_list, x, y, z):\n",
    "    a_list[x], a_list[y], a_list[z]= a_list[z], a_list[y], a_list[x]\n",
    "    return a_list\n",
    "\n",
    "my_list = [20,4,10]\n",
    "print(f\"Before swap: {my_list}\")\n",
    "print(my_list[1])\n",
    "\n",
    "swap(my_list, 2,0,1)\n",
    "\n",
    "print(f\" After swap: {my_list}\")\n",
    "\n",
    "\n"
   ]
  },
  {
   "cell_type": "markdown",
   "metadata": {},
   "source": [
    "#### Out of Place Algorithm"
   ]
  },
  {
   "cell_type": "code",
   "execution_count": null,
   "metadata": {},
   "outputs": [],
   "source": [
    "# Not swapping, completely reversing BUT also copies to another place in memory\n",
    "\n",
    "my_list_copy = my_list[: :-1]\n",
    "print(my_list_copy)\n",
    "\n",
    "array = [\"a\",\"b\",\"c\",\"d\"]\n",
    "new_array = [\"a\"] * len (array)\n",
    "\n",
    "print(\"before :\", array)\n",
    "length = len(array) - 1\n",
    "\n",
    "for i in range (length):\n",
    "    new_array[i] = array[length - i]\n",
    "    \n",
    "array = new_array\n",
    "\n",
    "print(\"After: \", array)\n"
   ]
  },
  {
   "cell_type": "markdown",
   "metadata": {},
   "source": [
    "#### In-Class Exercise #1 <br>\n",
    "<p>Write a function that takes in four arguments (list, index1, index2, index3), and swaps those three positions in the list passed in.</p>"
   ]
  },
  {
   "cell_type": "code",
   "execution_count": null,
   "metadata": {},
   "outputs": [],
   "source": [
    "def swapy (listy, a, b, c):\n",
    "    listy[a], listy[b], listy[c]= listy[c], listy[b], listy[a]\n",
    "    return listy\n",
    "    \n",
    "list_1 = [10, 4, 3, 8, 4, 2, 6]\n",
    "\n",
    "print(f\"Before swap: {list_1}\")\n",
    "print(list_1[1])\n",
    "swapy(list_1, 2,0,1)\n",
    "\n",
    "print(f\" After swap: {list_1}\")\n",
    "print(list_1[1])\n",
    "\n"
   ]
  },
  {
   "cell_type": "markdown",
   "metadata": {},
   "source": [
    "## Two Pointers"
   ]
  },
  {
   "cell_type": "markdown",
   "metadata": {},
   "source": [
    "#### Syntax"
   ]
  },
  {
   "cell_type": "code",
   "execution_count": null,
   "metadata": {},
   "outputs": [],
   "source": [
    "# ends up having two items that are iterating variables on some list \n",
    "# based on their parameters both of them will end up moving \n",
    "# ex.we have a list of numbers, we have something that some of the numbers in this list end up adding up to\n",
    "# ex. sorted list numbers 1-10 and we give the number 17; what numbers inside that list will add up to 17\n",
    "# since the list is in order you can start at the bottom and top of list. If the number added is too small you come\n",
    "# up from bottom end or come down from bottom end if you're too number is too high to find the two numbers that\n",
    "# add up to the number you want\n",
    "\n",
    "# This specific example uses two pointers to swap the list from front to back\n",
    "\n",
    "# Syntax\n",
    "\n",
    "#  alist[left], alist[right] = alist[right], alist[left]\n",
    "def twoPointers(alist):\n",
    "#     create the pointers\n",
    "    left = 0\n",
    "#     need to be able to subtract from the list positionally rather than by value\n",
    "# need to find the index of the LAST item\n",
    "    right = len(alist)-1\n",
    "#     set up a loop that wortks through our list and swaps things one PAIR at a time\n",
    "    while left <= right:\n",
    "# while left is less than right were going to continue switching\n",
    "        alist[left], alist[right] = alist[right], alist[left]\n",
    "        left +=1\n",
    "        right-=1\n",
    "    return alist\n",
    "my_list2 = [1,2,3,4,5,13,25,65,34,32,6]\n",
    "twoPointers(my_list2)"
   ]
  },
  {
   "cell_type": "markdown",
   "metadata": {},
   "source": [
    "#### Video of Algorithms <br>\n",
    "<p>Watch the video about algorithms.</p>\n",
    "\n",
    "https://www.youtube.com/watch?v=Q9HjeFD62Uk\n",
    "\n",
    "https://www.youtube.com/watch?v=kPRA0W1kECg\n",
    "\n",
    "https://www.youtube.com/watch?v=ZZuD6iUe3Pc"
   ]
  },
  {
   "cell_type": "markdown",
   "metadata": {},
   "source": [
    "# Sorting Algorithms"
   ]
  },
  {
   "cell_type": "markdown",
   "metadata": {},
   "source": [
    "#### Bubble Sort\n",
    "\n",
    "Worst Case: O(n^2) Time - O(1) Space"
   ]
  },
  {
   "cell_type": "code",
   "execution_count": null,
   "metadata": {},
   "outputs": [],
   "source": [
    "# best case for bubble sort is that it is linear. O(n) (Just needs to run through the array once)\n",
    "\n",
    "def swap(i, j, array):\n",
    "    array[i], array[j] = array[j], array[i]\n",
    "\n",
    "    \n",
    "def bubbleSort(array):\n",
    "    isSorted = False\n",
    "    while not isSorted:\n",
    "        isSorted = True\n",
    "        for num in range(len(array)-1):\n",
    "            if array[num] > array[num + 1]:\n",
    "                swap(num, num + 1, array)\n",
    "                isSorted = False\n",
    "    return array\n",
    "bubbleSort([22, 55,88, 44,1, 100, 34, 66])"
   ]
  },
  {
   "cell_type": "markdown",
   "metadata": {},
   "source": [
    "##### Insertion Sort\n",
    "\n",
    "Worst Case: O(n^2) time - O(1)space"
   ]
  },
  {
   "cell_type": "code",
   "execution_count": null,
   "metadata": {},
   "outputs": [],
   "source": [
    "def swap(i,j,array):\n",
    "    array[i], array[j] = array[j], array[i]\n",
    "    \n",
    "def insertionSort(array):\n",
    "    for i in range(1, len(array)):\n",
    "        j = i\n",
    "        while j > 0 and array [j] < array[j-1]:\n",
    "            swap(j, j - 1, array)\n",
    "            j -= 1\n",
    "    return array\n",
    "insertionSort([22, 55,88, 44,1, 100, 34, 66])"
   ]
  },
  {
   "cell_type": "markdown",
   "metadata": {},
   "source": [
    "## Merge Sort"
   ]
  },
  {
   "cell_type": "markdown",
   "metadata": {},
   "source": [
    "#### How it Works"
   ]
  },
  {
   "cell_type": "code",
   "execution_count": null,
   "metadata": {},
   "outputs": [],
   "source": [
    "# split everythong into its own group\n",
    "#  from left to right, merge two groups together \n",
    "# while merging place each item in the correct position within the merged group\n",
    "# repeat steps 2 and 3 until only one group remains\n",
    "\n",
    "from random import randint\n",
    "# generates a random list of 5 numbers from 0-20\n",
    "nums = [randint(0, 20) for i in range(5)]\n",
    "print(nums)\n",
    "\n",
    "# write our merge sort below\n",
    "def mergeSort(alist):\n",
    "    print(\"Splitting...\", alist)\n",
    "    \n",
    "#     Step 1: divide the array into equal parts(as much as possible)\n",
    "    if len(alist)>1:\n",
    "        mid = len(alist) // 2\n",
    "        lefthalf = alist[ : mid]\n",
    "        righthalf = alist[mid : ]\n",
    "# recursicely call mergeSort to perform splits if needed \n",
    "# THEN merge once the plits are done\n",
    "        mergeSort(lefthalf)\n",
    "        mergeSort(righthalf)\n",
    "#         index pointers for our list\n",
    "        i = 0 #POINTER FOR OUR LEFT HALF\n",
    "        j = 0 #POINTER FOR OUR right HALF\n",
    "        k = 0 #Pointer for our main array \n",
    "        \n",
    "#         Step 2: Compare the left half and the right half \n",
    "        while i < len(lefthalf) and j < len(righthalf):\n",
    "            if lefthalf[i] < righthalf[j]:\n",
    "                alist[k] = lefthalf[i]\n",
    "                i = i + 1\n",
    "            else:\n",
    "                    alist[k] = righthalf[j]\n",
    "                    j = j + 1 \n",
    "            k = k + 1 \n",
    "# Step 3: While merging, place items in the correct positions\n",
    "        while i < len (lefthalf):\n",
    "            alist[k] = lefthalf[i]\n",
    "            i = i+ 1\n",
    "            k = k +1\n",
    "        while j < len(righthalf):\n",
    "            alist[k] = righthalf[j]\n",
    "            j = j+1\n",
    "            k = k+1\n",
    "            \n",
    "    print(\"Merging... \", alist)\n",
    "    return alist\n",
    "\n",
    "mergeSort(nums)"
   ]
  },
  {
   "cell_type": "markdown",
   "metadata": {},
   "source": [
    "# Binary Search\n",
    "\n",
    "The Binary Search algorithm works by finding the number in the middle of a given array and comparing it to the target. Given that the array is sorted\n",
    "\n",
    "* The worst case run time for this algorithm is `O(log(n))`"
   ]
  },
  {
   "cell_type": "code",
   "execution_count": null,
   "metadata": {},
   "outputs": [],
   "source": [
    "# less = left\n",
    "#  more = right\n",
    "# List of numbers must be sorted \n",
    "\n",
    "def binarySearch HelperFunc(array, target, left, right):\n",
    "    while left <= right:\n",
    "#         this is to find the middle index // = floor (divides number and then rounds down)\n",
    "        middle = (left + right) // 2 \n",
    "#     we can overwrite this regularly because we find a new middle every time we go though the while loop\n",
    "        potentialMatch = array[middle]\n",
    "        if target == potentialMatch:\n",
    "            return f\"The index is... {middle}\"\n",
    "        elif target < potentilaMatch:\n",
    "            right = middle - 1 \n",
    "        else:\n",
    "            left = middle + 1\n",
    "    return -1"
   ]
  },
  {
   "cell_type": "markdown",
   "metadata": {},
   "source": [
    "# Exercises"
   ]
  },
  {
   "cell_type": "markdown",
   "metadata": {},
   "source": [
    "### Exercise #1 <br>\n",
    "<p>Reverse the list below in-place using an in-place algorithm.<br>For extra credit: Reverse the strings at the same time.</p>"
   ]
  },
  {
   "cell_type": "code",
   "execution_count": null,
   "metadata": {},
   "outputs": [],
   "source": [
    "words = 'this' 'is' 'a' 'sentence' '.'\n",
    "\n",
    "my_list = list(words)\n",
    "\n",
    "\n",
    "def swap(a_list,x,y,z,a,b,c,d,e,f,g,h,i,j,k,l,m):\n",
    "    a_list[x], a_list[y], a_list[z], a_list[a], a_list[b],a_list[c], a_list[d], a_list[e], a_list[f], a_list[g],a_list[h], a_list[i], a_list[j], a_list[k], a_list[l], a_list[m] = a_list[m], a_list[l], a_list[k], a_list[j], a_list[i],a_list[h], a_list[g], a_list[f], a_list[e], a_list[d], a_list[c], a_list[b], a_list[a], a_list[z], a_list[y], a_list[x]\n",
    "    return a_list\n",
    "\n",
    "print(f\"Individual characters before swap: {my_list}\")\n",
    "\n",
    "swap(my_list, 15,14,13,12,11,10,9,8,7,6,5,4,3,2,1,0)\n",
    "\n",
    "print(f\" After swap: {my_list}\")\n",
    "\n",
    "\n",
    "\n",
    "\n",
    "\n"
   ]
  },
  {
   "cell_type": "markdown",
   "metadata": {},
   "source": [
    "### Exercise #2 <br>\n",
    "<p>Create a function that counts how many distinct words are in the string below, then outputs a dictionary with the words as the key and the value as the amount of times that word appears in the string.<br>Should output:<br>{'a': 5,<br>\n",
    " 'abstract': 1,<br>\n",
    " 'an': 3,<br>\n",
    " 'array': 2, ... etc...</p>"
   ]
  },
  {
   "cell_type": "code",
   "execution_count": 3,
   "metadata": {},
   "outputs": [
    {
     "name": "stdout",
     "output_type": "stream",
     "text": [
      "{'In': 1, 'computing,': 1, 'a': 4, 'hash': 4, 'table': 2, 'map': 2, 'is': 1, 'data': 2, 'structure': 2, 'which': 2, 'implements': 1, 'an': 3, 'associative': 1, 'array': 2, 'abstract': 1, 'type,': 1, 'that': 1, 'can': 2, 'keys': 1, 'to': 2, 'values.': 1, 'A': 1, 'uses': 1, 'function': 1, 'compute': 1, 'index': 1, 'into': 1, 'of': 1, 'buckets': 1, 'or': 1, 'slots': 1, 'from': 1, 'the': 1, 'desired': 1, 'value': 1, 'be': 1, 'found': 1}\n"
     ]
    }
   ],
   "source": [
    "a_text = 'In computing, a hash table hash map is a data structure which implements an associative array abstract data type, a structure that can map keys to values. A hash table uses a hash function to compute an index into an array of buckets or slots from which the desired value can be found'\n",
    "\n",
    "def word_count(str):\n",
    "    counts = dict()\n",
    "    words = str.split()\n",
    "\n",
    "    for word in words:\n",
    "        if word in counts:\n",
    "            counts[word] += 1\n",
    "        else:\n",
    "            counts[word] = 1\n",
    "\n",
    "    return counts\n",
    "    \n",
    "\n",
    "print( word_count(a_text))\n"
   ]
  },
  {
   "cell_type": "markdown",
   "metadata": {},
   "source": [
    "## Exercise #3\n",
    "\n",
    "Write a program to implement a Linear Search Algorithm. Also in a comment, write the Time Complexity of the following algorithm.\n",
    "\n",
    "\n",
    "#### Hint: Linear Searching will require searching a list for a given number. "
   ]
  },
  {
   "cell_type": "code",
   "execution_count": 4,
   "metadata": {},
   "outputs": [
    {
     "name": "stdout",
     "output_type": "stream",
     "text": [
      "Element is present at index 6\n"
     ]
    }
   ],
   "source": [
    "# Time complexity is commonly estimated by counting the number of elementary \n",
    "# operations performed by the algorithm, supposing that each elementary operation \n",
    "# takes a fixed amount of time to perform.\n",
    "\n",
    "\n",
    "def search(arr, N, x):\n",
    " \n",
    "    for i in range(0, N):\n",
    "        if (arr[i] == x):\n",
    "            return i\n",
    "    return -1\n",
    " \n",
    "# Driver Code\n",
    "if __name__ == \"__main__\":\n",
    "    arr = [10, 20, 80, 30, 60, 50, 110, 130, 170]\n",
    "    x = 110\n",
    "    N = len(arr)\n",
    " \n",
    "    # Function call\n",
    "    result = search(arr, N, x)\n",
    "    if(result == -1):\n",
    "        print(\"Element is not present in array\")\n",
    "    else:\n",
    "        print(\"Element is present at index\", result)\n",
    "\n",
    "        \n",
    "# Time complexity is O(n)\n",
    "# In the worst case scenario of this example, \n",
    "# we need to look at all values in the list to find the value we are looking for.\n",
    "# The list is unsorted therefore the value we are looking for can be anywhere in the list. \n",
    "\n",
    "\n"
   ]
  },
  {
   "cell_type": "code",
   "execution_count": null,
   "metadata": {},
   "outputs": [],
   "source": []
  }
 ],
 "metadata": {
  "kernelspec": {
   "display_name": "Python 3 (ipykernel)",
   "language": "python",
   "name": "python3"
  },
  "language_info": {
   "codemirror_mode": {
    "name": "ipython",
    "version": 3
   },
   "file_extension": ".py",
   "mimetype": "text/x-python",
   "name": "python",
   "nbconvert_exporter": "python",
   "pygments_lexer": "ipython3",
   "version": "3.9.12"
  }
 },
 "nbformat": 4,
 "nbformat_minor": 2
}
